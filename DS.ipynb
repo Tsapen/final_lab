{
 "cells": [
  {
   "cell_type": "code",
   "execution_count": null,
   "metadata": {},
   "outputs": [],
   "source": [
    "import json\n",
    "import numpy as np \n",
    "import pandas as pd\n",
    "import re\n",
    "import random\n",
    "import os\n",
    "for dirname, _, filenames in os.walk('/kaggle/input/tensorflow2-question-answering/'):\n",
    "    for filename in filenames:\n",
    "        print(os.path.join(dirname, filename))\n",
    "        \n",
    "from sklearn.metrics import accuracy_score, f1_score\n",
    "from tqdm import tqdm_notebook as tqdm\n",
    "from Levenshtein import ratio as levenshtein_distance\n",
    "\n",
    "from sklearn.feature_extraction.text import TfidfVectorizer\n",
    "from sklearn.feature_extraction import text\n",
    "\n",
    "from scipy import spatial"
   ]
  },
  {
   "cell_type": "code",
   "execution_count": null,
   "metadata": {},
   "outputs": [],
   "source": [
    "#слова и теги которые будем удалять из текста и вопроса"
   ]
  },
  {
   "cell_type": "code",
   "execution_count": null,
   "metadata": {},
   "outputs": [],
   "source": [
    "tags = ['is', 'are', 'do', 'does', 'did', 'was', 'were', 'will', 'can', 'the', 'a', 'of', 'in', 'and', 'on', \\\n",
    "         'what', 'where', 'when', 'which', '</P>', '<Table>', '</Table>', '<Tr>', '</Tr>', '<Ul>', '<Ol>', '<Dl>', '</Ul>', '</Ol>', \\\n",
    "             '</Dl>', '<Li>', '<Dd>', '<Dt>', '</Li>', '</Dd>', '</Dt>']\n",
    "\n",
    "question_words = ['is', 'are', 'do', 'does', 'did', 'was', 'were', 'will', 'can']"
   ]
  },
  {
   "cell_type": "code",
   "execution_count": null,
   "metadata": {},
   "outputs": [],
   "source": [
    "#функция для очистки"
   ]
  },
  {
   "cell_type": "code",
   "execution_count": null,
   "metadata": {},
   "outputs": [],
   "source": [
    "def clean(x):\n",
    "    x = x.lower()\n",
    "    for r in tags:\n",
    "        x = x.replace(r, '')\n",
    "    x = re.sub(' +', ' ', x)\n",
    "    return x"
   ]
  },
  {
   "cell_type": "code",
   "execution_count": null,
   "metadata": {},
   "outputs": [],
   "source": [
    "#функция предсказания"
   ]
  },
  {
   "cell_type": "code",
   "execution_count": null,
   "metadata": {},
   "outputs": [],
   "source": [
    "def predict(json_data):\n",
    "    #выбираем кондиратов на длинный ответ\n",
    "    candidates = [c for c in json_data['long_answer_candidates'] if c['top_level'] == True]\n",
    "    doc_tokenized = json_data['document_text'].split(' ')\n",
    "    #берем вопрос\n",
    "    question = json_data['question_text'].split(' ') \n",
    "    #создаем модель tf-idf с н-грамами от 1 до 3 и английскими стоп-словами и обучаем\n",
    "    tfidf = TfidfVectorizer(ngram_range=(1,3), stop_words=text.ENGLISH_STOP_WORDS.union([\"book\"]))\n",
    "    tfidf.fit([json_data['document_text']])\n",
    "    #преобразуем вопрос в вектор\n",
    "    q_tfidf = tfidf.transform([json_data['question_text']]).todense()\n",
    "\n",
    "    #считаем косинусоидальное расстояние и сортируем ответы в зависимости от score\n",
    "    scores = []\n",
    "    count = 1\n",
    "    for i, c in enumerate(candidates):\n",
    "        s, e = c['start_token'], c['end_token']\n",
    "        t = ' '.join(doc_tokenized[s:e])\n",
    "        t_tfidf = tfidf.transform([t]).todense()\n",
    "        score = 1 - spatial.distance.cosine(q_tfidf, t_tfidf)\n",
    "        \n",
    "        if doc_tokenized[s] == '<P>':\n",
    "            score += 0.25**count\n",
    "            count += 1\n",
    "        scores.append(score)      \n",
    "    ans = (np.array(candidates)[np.argsort(scores)])[-1:].tolist()\n",
    "    #ds,bhftv\n",
    "    if np.max(scores) < 0.15:\n",
    "        long = ['-1:-1']\n",
    "        ans = [{'start_token': 0, 'end_token': 0}]\n",
    "    else:\n",
    "        long = [str(a['start_token']) + ':' + str(a['end_token']) for a in ans]\n",
    "    if question[0] in question_words:\n",
    "        short = 'YES'\n",
    "    else:\n",
    "        short = ''\n",
    "            \n",
    "    return long, short"
   ]
  },
  {
   "cell_type": "code",
   "execution_count": null,
   "metadata": {},
   "outputs": [],
   "source": []
  },
  {
   "cell_type": "code",
   "execution_count": null,
   "metadata": {},
   "outputs": [],
   "source": [
    "ids = []\n",
    "preds = []\n",
    "\n",
    "with open('/kaggle/input/tensorflow2-question-answering/simplified-nq-test.jsonl', 'r') as json_file:\n",
    "    for line in tqdm(json_file): \n",
    "        json_data = json.loads(line)\n",
    "        l_ans, s_ans = predict(json_data)\n",
    "        ids += [str(json_data['example_id']) + '_long']*len(l_ans)\n",
    "        ids.append(str(json_data['example_id']) + '_short')\n",
    "        preds += l_ans\n",
    "        preds.append(s_ans) \n",
    "        \n",
    "df = pd.DataFrame()\n",
    "df['example_id'] = ids\n",
    "df['PredictionString'] = preds\n",
    "sub = df[['example_id', 'PredictionString']].groupby('example_id').agg(lambda x: ' '.join(x) if len(x) > 1 else x).reset_index()\n",
    "sub.to_csv('submission.csv', index=False)\n",
    "\n",
    "sub.head(10)"
   ]
  }
 ],
 "metadata": {
  "kernelspec": {
   "display_name": "Python 3",
   "language": "python",
   "name": "python3"
  },
  "language_info": {
   "codemirror_mode": {
    "name": "ipython",
    "version": 3
   },
   "file_extension": ".py",
   "mimetype": "text/x-python",
   "name": "python",
   "nbconvert_exporter": "python",
   "pygments_lexer": "ipython3",
   "version": "3.7.5"
  }
 },
 "nbformat": 4,
 "nbformat_minor": 2
}
